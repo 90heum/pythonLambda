{
 "cells": [
  {
   "cell_type": "markdown",
   "id": "3bf0050e-a79e-4c7e-ab4a-77e3bcae46ed",
   "metadata": {},
   "source": [
    "\n",
    "<h1>람다식</h1>\n",
    "\n",
    "\n",
    "\n"
   ]
  },
  {
   "cell_type": "markdown",
   "id": "8277d58c",
   "metadata": {},
   "source": [
    "<h3>람다식을 사용하는 주된이유</h3>\n",
    "\n",
    "1. 코드의 간결성 및 가독성 향상\n",
    "   - 람다식은 함수를 매우 간결하게 표현할 수 있게 해줍니다.\n",
    "   - 불필요한코드를 줄여 코드의 양을 줄이고, 핵심로직에 집중하여 가독성을 높힙니다.\n",
    "\n",
    "2. 함수형 프로그래밍 지원\n",
    "   - 람다식을 사용하면 메서드를 마치 데이터처럼 다룰 수 있게 되어, 함수의 인자로 전달하거나 결과로 반환 하는 등의 함수형 프로그래밍 스타일을 적용할 수 있습니다.\n",
    "\n",
    "3. 재사용성 및 유연성\n",
    "   - 동일한 함수를 재활용하거나, 특정 로직을 조건으로 넘기는 등의 방식으로 코드의 재사용성을 높힐수 있습니다.\n",
    "\n",
    "요약 : 불필요한 코드를 줄여 코드를 간결하게 만들고, 가독성을 높히며, 함수형 프로그래밍 패러다임을 지원하기 위해 람다식을 사용합니다.   "
   ]
  },
  {
   "cell_type": "markdown",
   "id": "8d373ab7",
   "metadata": {},
   "source": [
    "<h3>람다식의 기본구조</h3>"
   ]
  },
  {
   "cell_type": "code",
   "execution_count": null,
   "id": "a5e21839-dfd1-427a-8732-b9760413bc8e",
   "metadata": {},
   "outputs": [
    {
     "name": "stdout",
     "output_type": "stream",
     "text": [
      "8\n"
     ]
    }
   ],
   "source": [
    "\n",
    "#일반 함수\n",
    "def add(a,b):\n",
    "    return a + b\n",
    "\n",
    "# 람다식 함수\n",
    "#            키워드  인자    표현식        \n",
    "addLambda = lambda a, b : a + b\n",
    "\n",
    "print(addLambda(3, 5))\n",
    "\n",
    "    "
   ]
  },
  {
   "cell_type": "markdown",
   "id": "37cf2581-d3c9-4a01-9d9d-0e45ab447aae",
   "metadata": {},
   "source": [
    "\n",
    "\n",
    "<h3>조건부 논리 람다식</h3>\n",
    "\n",
    "람다식은 하나의 표현식만 허용하는게 특징\n"
   ]
  },
  {
   "cell_type": "code",
   "execution_count": 11,
   "id": "b5af6576-25a7-4ad8-8da1-4a8c02820716",
   "metadata": {},
   "outputs": [
    {
     "name": "stdout",
     "output_type": "stream",
     "text": [
      "짝수\n",
      "홀수\n",
      "false\n",
      "3\n"
     ]
    }
   ],
   "source": [
    "\n",
    "# 결과가 짝수면 '짝수',  홀수면 '홀수' 반환\n",
    "\n",
    "check = lambda x : '짝수' if x % 2 == 0 else '홀수'\n",
    "\n",
    "\n",
    "print(check(10))\n",
    "print(check(7))\n",
    "\n",
    "\n",
    "# x y 비교도 가능\n",
    "test = lambda x , y : 'true' if x > y else 'false' \n",
    "\n",
    "print(test(1,3))\n",
    "\n",
    "\n",
    "# xy 비교뒤에 그대로 조건부에따라 그대로 리턴가능\n",
    "test2 = lambda x , y : x if x > y else y \n",
    "\n",
    "print(test2(1,3))\n",
    "\n",
    "\n"
   ]
  },
  {
   "cell_type": "markdown",
   "id": "8c3fe366-d465-4a86-ab40-50df48a8c012",
   "metadata": {},
   "source": [
    "\n",
    "\n",
    "람다식으로 반복문 사용하기\n",
    "\n",
    " - 반복문을 직접적으로 사용은 불가능 XXXX\n",
    " - 그러나 대안이 있음 : 리스트 컴프리헨션 (List Comprehension)\n",
    "\n",
    "\n"
   ]
  },
  {
   "cell_type": "code",
   "execution_count": 22,
   "id": "cc41f646-999b-4b1d-ada1-3a7950a63c41",
   "metadata": {},
   "outputs": [
    {
     "name": "stdout",
     "output_type": "stream",
     "text": [
      "[2, 3, 4]\n",
      "[1, 4, 9]\n",
      "[2]\n"
     ]
    }
   ],
   "source": [
    "\n",
    "numbers = [1,2,3]\n",
    "\n",
    "# 리스트컴프리헨션 사용가능\n",
    "test1 = [x + 1 for x in numbers]\n",
    "\n",
    "print(test1)\n",
    "\n",
    "\n",
    "test2 = [x * x for x in numbers]\n",
    "print(test2)\n",
    "\n",
    "\n",
    "# 뒤에 if붙혀서 사용가능\n",
    "test3 = [x for x in numbers if x % 2 == 0]\n",
    "print(test3)\n",
    "\n"
   ]
  },
  {
   "cell_type": "markdown",
   "id": "7d8a2ebb-b2fb-4290-82b4-9c2da52de3b6",
   "metadata": {},
   "source": [
    "\n",
    "람다식 사용 예제 \n",
    "\n",
    "람다식은 그 자체로 호출되기보다는, 주로 **map(), filter(), sorted()**와 같은 다른 함수의 인수로 사용되어 코드를 간결하게 만들 때 강력한 힘을 발휘합니다.\n",
    "\n",
    "\n"
   ]
  },
  {
   "cell_type": "code",
   "execution_count": 25,
   "id": "83eef89d-a54c-4fa9-aa15-734b27a834de",
   "metadata": {},
   "outputs": [
    {
     "name": "stdout",
     "output_type": "stream",
     "text": [
      "[1, 4, 9, 16]\n"
     ]
    }
   ],
   "source": [
    "numbers = [1,2,3,4]\n",
    "\n",
    "test = list(map(lambda x: x ** 2, numbers))\n",
    "\n",
    "print(test)\n"
   ]
  },
  {
   "cell_type": "code",
   "execution_count": 26,
   "id": "168e110b-76d7-46c0-9325-bf627f4b6b62",
   "metadata": {},
   "outputs": [
    {
     "name": "stdout",
     "output_type": "stream",
     "text": [
      "[1, 3, 5]\n"
     ]
    }
   ],
   "source": [
    "numbers = [1, 2, 3, 4, 5, 6]\n",
    "\n",
    "# 홀수만 필터링하는 람다식 적용\n",
    "test = list(filter(lambda x: x % 2 != 0, numbers))\n",
    "\n",
    "print(test)"
   ]
  },
  {
   "cell_type": "code",
   "execution_count": 32,
   "id": "2337764e-5361-4752-8d17-8effa6d91c44",
   "metadata": {},
   "outputs": [
    {
     "name": "stdout",
     "output_type": "stream",
     "text": [
      "sorted() 결과 (점수 기준): [('박영희', 92), ('김철수', 85), ('이민수', 78)]\n"
     ]
    }
   ],
   "source": [
    "# 튜플 리스트 (이름, 점수)\n",
    "students = [('김철수', 85), ('박영희', 92), ('이민수', 78)]\n",
    "\n",
    "# 점수(튜플의 두 번째 요소, 인덱스 1)를 기준으로 정렬\n",
    "sorted_by_score = sorted(students, key=lambda item: item[1], reverse=True)\n",
    "\n",
    "print(f\"sorted() 결과 (점수 기준): {sorted_by_score}\")\n",
    "# 출력: [('박영희', 92), ('김철수', 85), ('이민수', 78)]"
   ]
  },
  {
   "cell_type": "code",
   "execution_count": 1,
   "id": "fcca9e9d-95c7-4004-8f5a-cd4e363d8ff2",
   "metadata": {},
   "outputs": [
    {
     "name": "stdout",
     "output_type": "stream",
     "text": [
      "\n",
      "3. 출생년도 & 이름 기준 정렬:\n",
      "[('지수', 1995), ('제니', 1996), ('로제', 1997), ('리사', 1997)]\n"
     ]
    }
   ],
   "source": [
    "# 튜플 리스트 (이름, 출생년도)\n",
    "people = [ ('제니', 1996), ('로제', 1997),('지수', 1995), ('리사', 1997)]\n",
    "\n",
    "# 나이(출생년도가 낮은 사람부터)를 기준으로 정렬\n",
    "# (출생년도가 같으면 이름(인덱스 0)으로 정렬)\n",
    "sorted_by_age_and_name = sorted(people, key=lambda item: item[1])\n",
    "\n",
    "print(\"\\n3. 출생년도 & 이름 기준 정렬:\")\n",
    "\n",
    "print(sorted_by_age_and_name)\n",
    "# 출력: [('지수', 1995), ('제니', 1996), ('리사', 1997), ('로제', 1997)]"
   ]
  }
 ],
 "metadata": {
  "kernelspec": {
   "display_name": "base",
   "language": "python",
   "name": "python3"
  },
  "language_info": {
   "codemirror_mode": {
    "name": "ipython",
    "version": 3
   },
   "file_extension": ".py",
   "mimetype": "text/x-python",
   "name": "python",
   "nbconvert_exporter": "python",
   "pygments_lexer": "ipython3",
   "version": "3.13.5"
  }
 },
 "nbformat": 4,
 "nbformat_minor": 5
}
